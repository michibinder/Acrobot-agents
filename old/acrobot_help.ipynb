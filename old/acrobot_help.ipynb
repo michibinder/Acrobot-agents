{
 "cells": [
  {
   "cell_type": "markdown",
   "metadata": {
    "deletable": false,
    "editable": false,
    "nbgrader": {
     "cell_type": "markdown",
     "checksum": "6997ea9618e237aa0ece5eead9916109",
     "grade": false,
     "grade_id": "cell-9e945d01a0d3426c",
     "locked": true,
     "schema_version": 3,
     "solution": false,
     "task": false
    }
   },
   "source": [
    "## Reinforcement Learning: Policy Gradients\n",
    "\n",
    "\n",
    "### Overview  <a name='objectives' />\n",
    "\n",
    "This notebook introduces you Policy Gradients.\n",
    "\n",
    "The topics that will be covered are:\n",
    "\n",
    "* <a href=#cartpole>The CartPole Environment</a>\n",
    "* <a href=#polgrad>Policy-gradients with a Neural Network (REINFORCE)</a>\n",
    "\n",
    "\n",
    "### Programming Tasks\n",
    "For the graded programming tasks you will need to replace the following comment and exception with your own code:\n",
    "\n",
    "`# YOUR CODE HERE\n",
    "raise NotImplementedError()`\n",
    "\n",
    "Programming tasks are followed by a cell with tests (using the assert function from python). You can use these cells while developing your implementation and for validating your implementation. Note that there are also hidden test blocks which are not visible to you but these will also be used for grading your solutions.\n",
    "\n",
    "-   [Task 1](#task1) (3 points)\n",
    "-   [Task 2](#task2) (3 points)\n",
    "-   [Task 3](#task3) (4 points)\n",
    "\n",
    "### Points\n",
    "Total points = 10\n",
    "\n",
    "### Deadline\n",
    "07.12.2020 23:59\n",
    "\n",
    "### Miscellaneous\n",
    "\n",
    "Refer to the [RL day 4 slides](https://iis.uibk.ac.at/uibk/auddy/rl-2020w/rl_day4.pdf) and the [notes](https://iis.uibk.ac.at/uibk/auddy/rl-2020w/rl-notes.pdf)"
   ]
  },
  {
   "cell_type": "code",
   "execution_count": 1,
   "metadata": {
    "deletable": false,
    "editable": false,
    "nbgrader": {
     "cell_type": "code",
     "checksum": "27224722cbc03aef6cf98d1d6d7b9fde",
     "grade": false,
     "grade_id": "cell-a986858dfd603645",
     "locked": true,
     "schema_version": 3,
     "solution": false,
     "task": false
    }
   },
   "outputs": [
    {
     "name": "stdout",
     "output_type": "stream",
     "text": [
      "Requirement already satisfied: matplotlib==3.3.1 in /Users/tennismichel/Coding/Python/venv-advml/lib/python3.7/site-packages (from -r requirements_04_rl_pol_grad.txt (line 1)) (3.3.1)\n",
      "Requirement already satisfied: torch in /Users/tennismichel/Coding/Python/venv-advml/lib/python3.7/site-packages (from -r requirements_04_rl_pol_grad.txt (line 2)) (1.5.1)\n",
      "Requirement already satisfied: gym==0.17.3 in /Users/tennismichel/Coding/Python/venv-advml/lib/python3.7/site-packages (from -r requirements_04_rl_pol_grad.txt (line 3)) (0.17.3)\n",
      "Requirement already satisfied: tqdm==4.50.2 in /Users/tennismichel/Coding/Python/venv-advml/lib/python3.7/site-packages (from -r requirements_04_rl_pol_grad.txt (line 4)) (4.50.2)\n",
      "Requirement already satisfied: numpy==1.19.1 in /Users/tennismichel/Coding/Python/venv-advml/lib/python3.7/site-packages (from -r requirements_04_rl_pol_grad.txt (line 5)) (1.19.1)\n",
      "Requirement already satisfied: kiwisolver>=1.0.1 in /Users/tennismichel/Coding/Python/venv-advml/lib/python3.7/site-packages (from matplotlib==3.3.1->-r requirements_04_rl_pol_grad.txt (line 1)) (1.2.0)\n",
      "Requirement already satisfied: cycler>=0.10 in /Users/tennismichel/Coding/Python/venv-advml/lib/python3.7/site-packages (from matplotlib==3.3.1->-r requirements_04_rl_pol_grad.txt (line 1)) (0.10.0)\n",
      "Requirement already satisfied: pyparsing!=2.0.4,!=2.1.2,!=2.1.6,>=2.0.3 in /Users/tennismichel/Coding/Python/venv-advml/lib/python3.7/site-packages (from matplotlib==3.3.1->-r requirements_04_rl_pol_grad.txt (line 1)) (2.4.7)\n",
      "Requirement already satisfied: pillow>=6.2.0 in /Users/tennismichel/Coding/Python/venv-advml/lib/python3.7/site-packages (from matplotlib==3.3.1->-r requirements_04_rl_pol_grad.txt (line 1)) (7.2.0)\n",
      "Requirement already satisfied: python-dateutil>=2.1 in /Users/tennismichel/Coding/Python/venv-advml/lib/python3.7/site-packages (from matplotlib==3.3.1->-r requirements_04_rl_pol_grad.txt (line 1)) (2.8.1)\n",
      "Requirement already satisfied: certifi>=2020.06.20 in /Users/tennismichel/Coding/Python/venv-advml/lib/python3.7/site-packages (from matplotlib==3.3.1->-r requirements_04_rl_pol_grad.txt (line 1)) (2020.6.20)\n",
      "Requirement already satisfied: future in /Users/tennismichel/Coding/Python/venv-advml/lib/python3.7/site-packages (from torch->-r requirements_04_rl_pol_grad.txt (line 2)) (0.18.2)\n",
      "Requirement already satisfied: pyglet<=1.5.0,>=1.4.0 in /Users/tennismichel/Coding/Python/venv-advml/lib/python3.7/site-packages (from gym==0.17.3->-r requirements_04_rl_pol_grad.txt (line 3)) (1.5.0)\n",
      "Requirement already satisfied: scipy in /Users/tennismichel/Coding/Python/venv-advml/lib/python3.7/site-packages (from gym==0.17.3->-r requirements_04_rl_pol_grad.txt (line 3)) (1.5.2)\n",
      "Requirement already satisfied: cloudpickle<1.7.0,>=1.2.0 in /Users/tennismichel/Coding/Python/venv-advml/lib/python3.7/site-packages (from gym==0.17.3->-r requirements_04_rl_pol_grad.txt (line 3)) (1.6.0)\n",
      "Requirement already satisfied: six in /Users/tennismichel/Coding/Python/venv-advml/lib/python3.7/site-packages (from cycler>=0.10->matplotlib==3.3.1->-r requirements_04_rl_pol_grad.txt (line 1)) (1.15.0)\n",
      "\u001b[33mWARNING: You are using pip version 20.2.4; however, version 20.3 is available.\n",
      "You should consider upgrading via the '/Users/tennismichel/Coding/Python/venv-advml/bin/python3 -m pip install --upgrade pip' command.\u001b[0m\n"
     ]
    }
   ],
   "source": [
    "# Always execute this cell\n",
    "\n",
    "# Libraries will not be installed if running on ifi-europa.uibk.ac.at\n",
    "\n",
    "# Make sure that the required libraries are installed on your local system\n",
    "# If you are using Google Colab, remember to upload the requirements file before \n",
    "# running this cell\n",
    "# If you are running this notebook locally, the requirements file needs to be in \n",
    "# the same location as this notebook\n",
    "import os\n",
    "running_local = True if os.getenv('JUPYTERHUB_USER') is None else False\n",
    "    \n",
    "if running_local:\n",
    "    import sys\n",
    "    !{sys.executable} -m pip install -r requirements_04_rl_pol_grad.txt"
   ]
  },
  {
   "cell_type": "code",
   "execution_count": 2,
   "metadata": {
    "deletable": false,
    "editable": false,
    "nbgrader": {
     "cell_type": "code",
     "checksum": "d0041ed9e212e2266ddad9e4a01fe5ac",
     "grade": false,
     "grade_id": "cell-d82014769183c9d2",
     "locked": true,
     "schema_version": 3,
     "solution": false,
     "task": false
    }
   },
   "outputs": [
    {
     "data": {
      "text/plain": [
       "<torch._C.Generator at 0x11f794c50>"
      ]
     },
     "execution_count": 2,
     "metadata": {},
     "output_type": "execute_result"
    }
   ],
   "source": [
    "import os\n",
    "import numpy as np\n",
    "import itertools\n",
    "from itertools import count\n",
    "import matplotlib.pyplot as plt\n",
    "from tqdm import trange\n",
    "import gym\n",
    "\n",
    "import torch\n",
    "import torch.nn as nn\n",
    "import torch.nn.functional as F\n",
    "import torch.optim as optim\n",
    "from torch.distributions import Categorical\n",
    "\n",
    "# Set a seed for reproducing results\n",
    "random_seed = 1234\n",
    "np.random.seed(random_seed)\n",
    "torch.manual_seed(random_seed)\n"
   ]
  },
  {
   "cell_type": "markdown",
   "metadata": {
    "deletable": false,
    "editable": false,
    "nbgrader": {
     "cell_type": "markdown",
     "checksum": "59fd654da331b616246a6c7ac0fe30d0",
     "grade": false,
     "grade_id": "cell-2f9b661622733fdf",
     "locked": true,
     "schema_version": 3,
     "solution": false,
     "task": false
    }
   },
   "source": [
    "<a href=#objectives> [go to top] </a>\n",
    "\n",
    "### The CartPole Enviornment <a name='cartpole' />\n",
    "\n",
    "In this assignment, we will use the `CartPole-v1` environment from openAI `gym`. Please check the details about the environment [here](https://gym.openai.com/envs/CartPole-v1/) or check the [source code](https://github.com/openai/gym/blob/master/gym/envs/classic_control/cartpole.py) of this environment for more details. A snapshot of the environment (when rendered) is shown below. \n",
    "<img src=\"cartpole.jpg\" alt=\"see cartpole.jpg\" width=\"400\"/>\n",
    "\n",
    "In this environment, there are 2 possible actions which the agent can take: applying a force of +1 or -1 to the cart. The state ($s \\in \\mathbb{R}^4$) of the environment is continuous and is denoted by 4 real numbers, as shown below:\n",
    "```\n",
    "        Num     Observation               Min                     Max\n",
    "        0       Cart Position             -4.8                    4.8\n",
    "        1       Cart Velocity             -Inf                    Inf\n",
    "        2       Pole Angle                -0.418 rad (-24 deg)    0.418 rad (24 deg)\n",
    "        3       Pole Angular Velocity     -Inf                    Inf\n",
    "```\n",
    "The objective here is to choose actions based on the current state, such that the pole remains upright for as long as possible, thereby leading to greater returns.\n",
    "\n",
    "\n",
    "To initialize the `CartPole-v1` environment, execute the cell below."
   ]
  },
  {
   "cell_type": "code",
   "execution_count": 3,
   "metadata": {
    "deletable": false,
    "editable": false,
    "nbgrader": {
     "cell_type": "code",
     "checksum": "6a0adad32b7c059d9180643b407e272a",
     "grade": false,
     "grade_id": "cell-ef028fa645a9f9f1",
     "locked": true,
     "schema_version": 3,
     "solution": false,
     "task": false
    }
   },
   "outputs": [
    {
     "data": {
      "text/plain": [
       "[1234]"
      ]
     },
     "execution_count": 3,
     "metadata": {},
     "output_type": "execute_result"
    }
   ],
   "source": [
    "# Define the environment\n",
    "env = gym.make('CartPole-v1')\n",
    "\n",
    "# Set the seed for gym\n",
    "env.seed(random_seed)\n"
   ]
  },
  {
   "cell_type": "code",
   "execution_count": 4,
   "metadata": {},
   "outputs": [
    {
     "name": "stdout",
     "output_type": "stream",
     "text": [
      "Action space: Discrete(2)\n",
      "Sample action: 1\n",
      "Type of action: <class 'int'>\n",
      "Observationtate space: Box(-3.4028234663852886e+38, 3.4028234663852886e+38, (4,), float32)\n",
      "Initial state: [-0.01315549 -0.04012824  0.04801855 -0.0044493 ]\n",
      "Sample observation: [-3.6932671e+00 -1.7619946e+38  1.6151948e-01 -1.9803185e+38]\n",
      "Type of observation: <class 'numpy.ndarray'>\n"
     ]
    }
   ],
   "source": [
    "# What is the type and size of the action space\n",
    "print(\"Action space: {}\".format(env.action_space))  # 2 discrete actions, \n",
    "\n",
    "# What does an action look like\n",
    "sample_action = env.action_space.sample()  # Action can be one of these: 0, 1\n",
    "print(\"Sample action: {}\".format(sample_action))  # Execute multiple times to see different actions\n",
    "print(\"Type of action: {}\".format(type(sample_action)))\n",
    "\n",
    "# What is the type and size of the observation (state) space\n",
    "print(\"Observationtate space: {}\".format(env.observation_space))  # continuous states\n",
    "\n",
    "# Which state does the agent start in?\n",
    "initial_state = env.reset()\n",
    "print(\"Initial state: {}\".format(initial_state))  \n",
    "\n",
    "# What is an observation\n",
    "sample_observation = env.observation_space.sample()\n",
    "print(\"Sample observation: {}\".format(sample_observation))\n",
    "print(\"Type of observation: {}\".format(type(sample_observation)))"
   ]
  },
  {
   "cell_type": "markdown",
   "metadata": {
    "deletable": false,
    "editable": false,
    "nbgrader": {
     "cell_type": "markdown",
     "checksum": "2f6b4adadf0079a57da47fde8f169376",
     "grade": false,
     "grade_id": "cell-a20f54320b3d31c0",
     "locked": true,
     "schema_version": 3,
     "solution": false,
     "task": false
    }
   },
   "source": [
    "<a href=#objectives> [go to top] </a>\n",
    "\n",
    "### Policy-gradients with a Neural Network (REINFORCE) <a name='polgrad' />\n",
    "You will now implement the REINFORCE algorithm ([RL Day 4 Slides, pg. 18](https://iis.uibk.ac.at/uibk/auddy/rl-2020w/rl_day4.pdf)), in which a policy function $\\pi(a \\vert s, \\theta)$ is learned directly from the agent's interaction with the environment. You will be using a simple fully connected neural network as a function approximator for the policy function.\n",
    "\n",
    "### Task 1<a name='task1' />\n",
    "\n",
    "Implement a neural network that can act as a function approximator for the policy function for the `CartPole-v1` environment. The overall structure of this neural network is provided in the image below. There will be four inputs corresponding to the 4 dimensions of the state. Since you are dealing with an environment with discrete actions, this network will have 2 outputs, which are probabilities of the two actions. These probabilities are obtained by passing the output (numerical preferences of the 2 actions) of the network through a `Softmax` layer.\n",
    "\n",
    "The image below only shows a conceptual diagram of the network. In practice there can be multiple hidden layers, and many units in each hidden layer.\n",
    "<img src=\"policy_network.svg\" alt=\"see policy_network.svg\" width=\"640\"/>\n",
    "\n",
    "For this assignment, you will be using a network with 2 (fully-connected) hidden layers called `affine1` (containing 256 units) and `affine2` (containing 256 units), and an output layer called `affine3` (containing 2 units corresponding to the 2 actions - these are the numerical preferences as indicated in the figure above). All the layers of the network are defined for you in the `__init__` function. Your task is to complete the `forward` function of the network which takes the state as input and produces the action probabilities as output. Follow the comments that are provided. Other helper functions are already implemented for you.\n",
    "\n",
    "**Note on Dropout**: You will also be utilizing Dropout, which is a powerful regularization technique (theoretical discussion about Dropout can be found in [the deep learning book, (chapter 7.12)](https://www.deeplearningbook.org/contents/regularization.html), PyTorch's implementation related documentation can be found [here](https://pytorch.org/docs/stable/generated/torch.nn.Dropout.html). Refer to these resources if you are interested, but for the purpose of this assignment, you don't require to know the details of how Dropout works.\n"
   ]
  },
  {
   "cell_type": "code",
   "execution_count": 5,
   "metadata": {
    "deletable": false,
    "nbgrader": {
     "cell_type": "code",
     "checksum": "06192aff5adce378a0f2a2c76bc9c957",
     "grade": false,
     "grade_id": "cell-734372f2638f62a0",
     "locked": false,
     "schema_version": 3,
     "solution": true,
     "task": false
    }
   },
   "outputs": [],
   "source": [
    "####"
   ]
  },
  {
   "cell_type": "code",
   "execution_count": 6,
   "metadata": {
    "deletable": false,
    "editable": false,
    "nbgrader": {
     "cell_type": "code",
     "checksum": "f8d922c7830e1221541ffdcc19379ef5",
     "grade": true,
     "grade_id": "cell-1a944d914598ce28",
     "locked": true,
     "points": 3,
     "schema_version": 3,
     "solution": false,
     "task": false
    }
   },
   "outputs": [],
   "source": [
    "# Test cell\n",
    "\n",
    "test_policy = NeuralNetworkPolicy()\n",
    "test_policy.eval()\n",
    "\n",
    "with torch.no_grad():\n",
    "    sample_observation = env.observation_space.sample()\n",
    "    test_output = test_policy(torch.from_numpy(sample_observation).float().unsqueeze(0))\n",
    "    assert isinstance(test_output, torch.Tensor) and test_output.shape==(1,2)\n",
    "    for action_prob in test_output.detach().cpu().numpy().flatten():\n",
    "        assert 0.0<=action_prob<=1.0\n",
    "        \n",
    "    # Sample a few actions\n",
    "    for i in range(100):\n",
    "        sample_observation = env.observation_space.sample()\n",
    "        action = test_policy.select_action(sample_observation)\n",
    "        assert action==0 or action==1\n",
    "        \n",
    "del test_policy"
   ]
  },
  {
   "cell_type": "markdown",
   "metadata": {
    "deletable": false,
    "editable": false,
    "nbgrader": {
     "cell_type": "markdown",
     "checksum": "d18b8394142a73dfeafd49be848ad50c",
     "grade": false,
     "grade_id": "cell-58c52d8a7ab89400",
     "locked": true,
     "schema_version": 3,
     "solution": false,
     "task": false
    }
   },
   "source": [
    "<a href=#objectives> [go to top] </a>\n",
    "\n",
    "### Task 2<a name='task2' />\n",
    "\n",
    "Your next task is to implement a function that computes the returns for each step of an episode from the list of rewards observed during an episode. Remember that if the rewards observed in a hypothetical 3-step episode are denoted by $[r_1, r_2, r_3]$, then the returns should be $\\left[ \\left(r_1 + \\gamma r_2 + \\gamma^2 r_3 \\right), \\left(r_2 + \\gamma r_3 \\right), \\left(r_3\\right) \\right]$."
   ]
  },
  {
   "cell_type": "code",
   "execution_count": 7,
   "metadata": {
    "deletable": false,
    "nbgrader": {
     "cell_type": "code",
     "checksum": "185b06efc7bdf13b2d36071ef1432085",
     "grade": false,
     "grade_id": "cell-f61418b51afd0b2f",
     "locked": false,
     "schema_version": 3,
     "solution": true,
     "task": false
    }
   },
   "outputs": [],
   "source": [
    "def compute_returns(rewards, gamma):\n",
    "    \"\"\"\n",
    "    Function for computing returns from the list of rewards observed during an episode.\n",
    "    \n",
    "    Hint: Take special care of the fact that in the algorithm, the list of rewards are for \n",
    "    steps 1,2,...,T. Since Python follows a zero-based indexing system, the kth reward is \n",
    "    accessed by: rewards[k-1].\n",
    "    \n",
    "    Args:\n",
    "        rewards (list): Rewards observed in an episode [r1, r1, ..., rT] for T steps.\n",
    "    Returns:\n",
    "        (list): List of returns.\n",
    "    \"\"\"\n",
    "    returns = list()\n",
    "    len_rewards = len(rewards)\n",
    "    for i, reward in enumerate(rewards):\n",
    "        return_i = 0\n",
    "        k = 0 # k is exponent of gamma - j iterates through relevant rewards\n",
    "        for j in range(i, len_rewards):\n",
    "            return_i += gamma**k * rewards[j]\n",
    "            k += 1\n",
    "        returns.append(return_i) \n",
    "    return returns"
   ]
  },
  {
   "cell_type": "code",
   "execution_count": 8,
   "metadata": {
    "deletable": false,
    "editable": false,
    "nbgrader": {
     "cell_type": "code",
     "checksum": "e98310ca1f6d86c065f0612ad187f3e4",
     "grade": true,
     "grade_id": "cell-9a05ff1d5ba9f69b",
     "locked": true,
     "points": 3,
     "schema_version": 3,
     "solution": false,
     "task": false
    }
   },
   "outputs": [],
   "source": [
    "# Test cell (includes hidden tests)\n",
    "\n",
    "rewards = list(np.arange(1,11))\n",
    "returns = compute_returns(rewards, gamma=1)\n",
    "assert np.allclose(returns, [55, 54, 52, 49, 45, 40, 34, 27, 19, 10])\n"
   ]
  },
  {
   "cell_type": "markdown",
   "metadata": {
    "deletable": false,
    "editable": false,
    "nbgrader": {
     "cell_type": "markdown",
     "checksum": "fa4721ecafb99fb8173f093ed4da16c0",
     "grade": false,
     "grade_id": "cell-fe49e6c084d508ef",
     "locked": true,
     "schema_version": 3,
     "solution": false,
     "task": false
    }
   },
   "source": [
    "<a href=#objectives> [go to top] </a>\n",
    "\n",
    "### Task 3<a name='task3' />\n",
    "\n",
    "You will now need to implement the REINFORCE algorithm. To make this a little easier, the actual logic of the algorithm is split into 2 parts. As shown below, the calculation of the returns and the weight update is taken care of by the `finish_episode` function. Remember that since we are using PyTorch, we do not need to compute the gradients manually. All that is needed is to define the forward function of the policy network (which you have already done) and to define what the loss should be. The `finish_episode` function is provided to you. For computing the returns, it utilizes the `compute_returns` function you wrote earlier. Your task is to implement the the function `reinforce` which implements the main body of the REINFORCE algorithm.\n",
    "\n",
    "<img src=\"reinforce.png\" alt=\"see reinforce.png\" width=\"700\"/>"
   ]
  },
  {
   "cell_type": "code",
   "execution_count": 9,
   "metadata": {
    "deletable": false,
    "editable": false,
    "nbgrader": {
     "cell_type": "code",
     "checksum": "dd7f799cfd89b29e4f0db0633507deb8",
     "grade": false,
     "grade_id": "cell-005275f21c6ab52d",
     "locked": true,
     "schema_version": 3,
     "solution": false,
     "task": false
    }
   },
   "outputs": [],
   "source": [
    "def finish_episode(policy, optimizer, gamma):\n",
    "    \"\"\"\n",
    "    Performs the parameter updates of the policy network after an episode is completed.\n",
    "    \n",
    "    Args:\n",
    "        policy (NeuralNetworkPolicy): The policy neural network.\n",
    "        optimizer (child of torch.optim.Optimizer): Optimizer algorithm for gradient ascent.\n",
    "        gamma (float): Discount factor in the range [0.0,1.0].\n",
    "    \"\"\"\n",
    "    \n",
    "    policy_loss = []\n",
    "\n",
    "    # Define a small float which is used to avoid divison by zero\n",
    "    eps = np.finfo(np.float32).eps.item()\n",
    "\n",
    "    # Go through the list of observed rewards and calculate the returns\n",
    "    returns = compute_returns(policy.rewards, gamma)\n",
    "\n",
    "    # Convert the list of returns into a torch tensor\n",
    "    returns = torch.tensor(returns)\n",
    "\n",
    "    # Here we normalize the returns by subtracting the mean and dividing\n",
    "    # by the standard deviation. Normalization is a standard technique in\n",
    "    # deep learning and it improves performance, as discussed in \n",
    "    # http://karpathy.github.io/2016/05/31/rl/\n",
    "    returns = (returns - returns.mean()) / (returns.std() + eps)\n",
    "\n",
    "    # Here, we deviate slightly from the standard REINFORCE algorithm\n",
    "    # Think why we use `-log_prob * G` instead of `log_prob * G`\n",
    "    for log_prob, G in zip(policy.saved_log_probs, returns):\n",
    "        policy_loss.append(-log_prob * G)\n",
    "\n",
    "    # Reset the gradients of the parameters\n",
    "    optimizer.zero_grad()\n",
    "\n",
    "    # Compute the cumulative loss\n",
    "    policy_loss = torch.cat(policy_loss).mean()\n",
    "\n",
    "    # Backpropagate the loss through the network\n",
    "    policy_loss.backward()\n",
    "\n",
    "    # Perform a parameter update step\n",
    "    optimizer.step()\n",
    "\n",
    "    # Reset the saved rewards and log probabilities\n",
    "    del policy.rewards[:]\n",
    "    del policy.saved_log_probs[:]"
   ]
  },
  {
   "cell_type": "code",
   "execution_count": 10,
   "metadata": {
    "deletable": false,
    "nbgrader": {
     "cell_type": "code",
     "checksum": "86a8d87b00d507398dd56d895e2a4a06",
     "grade": false,
     "grade_id": "cell-82d8b12a73fc3685",
     "locked": false,
     "schema_version": 3,
     "solution": true,
     "task": false
    }
   },
   "outputs": [],
   "source": [
    "def reinforce(policy, optimizer, gamma=0.9, log_interval=100, max_episodes=1000, save=False):\n",
    "    \"\"\"\n",
    "    Implementation of the main body of the REINFORCE algorithm.\n",
    "    \n",
    "    Args:\n",
    "        policy (NeuralNetworkPolicy): The policy neural network.\n",
    "        optimizer (child of torch.optim.Optimizer): Optimizer algorithm for gradient ascent.\n",
    "        gamma (float): Discount factor in the range [0.0,1.0]. Defaults to 0.9.\n",
    "        log_interval (int): Prints the progress after this many episodes. Defaults to 100.\n",
    "        max_episodes (int): Maximum number of episodes to train for. Defaults to 1000.\n",
    "        save (bool): Whether to save the trained network. Defaults to False.\n",
    "        \n",
    "    Returns:\n",
    "        ep_rewards (list): List of actual cumulative rewards in each episode. \n",
    "        running_rewards (numpy array): List of smoothed cumulative rewards in each episode. \n",
    "    \"\"\"\n",
    "\n",
    "    # To track the reward across consecutive episodes (smoothed)\n",
    "    running_reward = 1.0\n",
    "\n",
    "    # Lists to store the episodic and running rewards for plotting\n",
    "    ep_rewards = list()\n",
    "    running_rewards = list()\n",
    "\n",
    "    # Start executing an episode\n",
    "    for i_episode in count(1):\n",
    "\n",
    "        # Steps you need to implement\n",
    "        # 1. Reset the environment\n",
    "        state = env.reset()\n",
    "        t = 0\n",
    "        \n",
    "        # 2. Initialize `ep_reward` (the total reward for this episode)\n",
    "        ep_reward = 0\n",
    "        \n",
    "        # 3. For each step of the episode\n",
    "        while (True):\n",
    "            # 3.1 Select an action using the policy network\n",
    "            action = policy.select_action(state)\n",
    "            # action = self.select_action(state)\n",
    "            \n",
    "            # 3.2 Perform the action and note the next state and reward and if the episode is done\n",
    "            state, reward, done, info = env.step(action)\n",
    "            \n",
    "            # 3.3 Store the current reward in `policy.rewards`\n",
    "            policy.rewards.append(reward)\n",
    "            \n",
    "            # 3.4 Increment the total reward in this episode\n",
    "            ep_reward += reward\n",
    "            \n",
    "            # Steps in episode for output required\n",
    "            t += 1\n",
    "            \n",
    "            # 3.5 Check if the episode is finished using the `done` variable and break if yes\n",
    "            if (done):\n",
    "                break\n",
    "\n",
    "        # Update the running reward\n",
    "        running_reward = 0.05 * ep_reward + (1 - 0.05) * running_reward\n",
    "\n",
    "        # Store the rewards for plotting\n",
    "        ep_rewards.append(ep_reward)\n",
    "        running_rewards.append(running_reward)\n",
    "        \n",
    "        # Perform the parameter update according to REINFORCE\n",
    "        finish_episode(policy, optimizer, gamma)\n",
    "\n",
    "        if i_episode % log_interval == 0:\n",
    "            print('Episode {}\\tLast reward: {:.2f}\\tAverage reward: {:.2f}'.format(\n",
    "                  i_episode, ep_reward, running_reward))\n",
    "        # Stopping criteria\n",
    "        if running_reward > env.spec.reward_threshold:\n",
    "            print('Running reward is now {} and the last episode ran for {} steps!'.format(running_reward, t))\n",
    "            break\n",
    "        if i_episode >= max_episodes:\n",
    "            print('Max episodes exceeded, quitting.')\n",
    "            break\n",
    "    # Save the trained policy network\n",
    "    if save:\n",
    "        policy.save()\n",
    "\n",
    "    return ep_rewards, running_rewards"
   ]
  },
  {
   "cell_type": "code",
   "execution_count": 11,
   "metadata": {
    "deletable": false,
    "editable": false,
    "nbgrader": {
     "cell_type": "code",
     "checksum": "d05ba3650e0b441f5fbdd58c8842b4bc",
     "grade": false,
     "grade_id": "cell-15d31e0864caa0b4",
     "locked": true,
     "schema_version": 3,
     "solution": false,
     "task": false
    }
   },
   "outputs": [],
   "source": [
    "def train_nn_policy(max_episodes=1000, **hyperparam_dict):\n",
    "    \"\"\"\n",
    "    Function for training the neural network policy parameters with specified hyperparameters.\n",
    "    \"\"\"\n",
    "    \n",
    "    # Fetch the hyperparameters\n",
    "    gamma = hyperparam_dict['gamma']\n",
    "    learning_rate = hyperparam_dict['learning_rate']\n",
    "\n",
    "    state_size = env.observation_space.shape[0]\n",
    "\n",
    "    # Create the policy function and set the training mode\n",
    "    policy = NeuralNetworkPolicy()\n",
    "    policy.train()\n",
    "\n",
    "    # Define the optimizer and set the learning rate\n",
    "    optimizer = optim.Adam(policy.parameters(), lr=learning_rate)\n",
    "\n",
    "    # Execute the REINFORCE algorithm\n",
    "    ep_rewards, running_rewards = reinforce(policy, optimizer, max_episodes=max_episodes)\n",
    "    \n",
    "    del optimizer\n",
    "    del policy\n",
    "    \n",
    "    return ep_rewards, running_rewards"
   ]
  },
  {
   "cell_type": "code",
   "execution_count": 12,
   "metadata": {
    "deletable": false,
    "editable": false,
    "nbgrader": {
     "cell_type": "code",
     "checksum": "d9db541d7a1f9c40dff0826e93e20f9e",
     "grade": true,
     "grade_id": "cell-2d70f68cc0beeea1",
     "locked": true,
     "points": 4,
     "schema_version": 3,
     "solution": false,
     "task": false
    }
   },
   "outputs": [
    {
     "name": "stdout",
     "output_type": "stream",
     "text": [
      "Max episodes exceeded, quitting.\n"
     ]
    }
   ],
   "source": [
    "# Test cell: Here we will just test that all the functions execute without error\n",
    "\n",
    "# Run the REINFORCE algorithm \n",
    "hyperparam_dict = {'name': 'neural_network', 'gamma':0.9, 'learning_rate':5e-3}\n",
    "ep_rewards, running_rewards = train_nn_policy(max_episodes=1, **hyperparam_dict)\n",
    "assert len(ep_rewards)==len(running_rewards)"
   ]
  },
  {
   "cell_type": "markdown",
   "metadata": {},
   "source": [
    "<a href=#objectives> [go to top] </a>"
   ]
  },
  {
   "cell_type": "code",
   "execution_count": 13,
   "metadata": {
    "deletable": false,
    "editable": false,
    "nbgrader": {
     "cell_type": "code",
     "checksum": "3644b3dc7942b91d3d07bfd2ef564afd",
     "grade": false,
     "grade_id": "cell-50ae940878d69d2e",
     "locked": true,
     "schema_version": 3,
     "solution": false,
     "task": false
    }
   },
   "outputs": [
    {
     "name": "stdout",
     "output_type": "stream",
     "text": [
      "Episode 100\tLast reward: 114.00\tAverage reward: 134.96\n",
      "Episode 200\tLast reward: 138.00\tAverage reward: 213.85\n",
      "Episode 300\tLast reward: 95.00\tAverage reward: 274.11\n",
      "Episode 400\tLast reward: 500.00\tAverage reward: 462.29\n",
      "Episode 500\tLast reward: 160.00\tAverage reward: 181.42\n",
      "Episode 600\tLast reward: 361.00\tAverage reward: 214.35\n",
      "Running reward is now 475.15316483255515 and the last episode ran for 500 steps!\n"
     ]
    }
   ],
   "source": [
    "# Actual training takes place here\n",
    "\n",
    "# This will take a while to run\n",
    "\n",
    "# A list for storing the hyperparameters and the corresponding results\n",
    "results_neural_network = list()\n",
    "\n",
    "# Run the REINFORCE algorithm \n",
    "hyperparam_dict = {'name': 'neural_network', 'gamma':0.9, 'learning_rate':5e-3}\n",
    "ep_rewards, running_rewards = train_nn_policy(**hyperparam_dict)\n",
    "\n",
    "# Store the results\n",
    "results_neural_network.append((hyperparam_dict, ep_rewards, running_rewards))"
   ]
  },
  {
   "cell_type": "code",
   "execution_count": 14,
   "metadata": {
    "deletable": false,
    "editable": false,
    "nbgrader": {
     "cell_type": "code",
     "checksum": "2dcd83ecdfdd60bc97e7aac9309ba8ca",
     "grade": false,
     "grade_id": "cell-74908fd42ba40c7f",
     "locked": true,
     "schema_version": 3,
     "solution": false,
     "task": false
    }
   },
   "outputs": [
    {
     "data": {
      "image/png": "[encoded data removed]",
      "text/plain": [
       "<Figure size 1440x576 with 1 Axes>"
      ]
     },
     "metadata": {
      "needs_background": "light"
     },
     "output_type": "display_data"
    }
   ],
   "source": [
    "plt.rcParams.update({'font.size': 18})\n",
    "\n",
    "# Plot the results\n",
    "fig = plt.figure(1, figsize=(20,8))\n",
    "\n",
    "for result in results_neural_network:\n",
    "    hp = result[0]\n",
    "    running_rewards = result[2]\n",
    "    title_str = hp['name'] + '($\\gamma$:' + str(hp['gamma']) + ',lr:' + str(hp['learning_rate']) + ')'\n",
    "    plt.plot(range(len(ep_rewards)), ep_rewards, lw=2, color=\"red\", label=\"episode rewards\")\n",
    "    plt.plot(range(len(running_rewards)), running_rewards, lw=2, color=\"blue\", label=\"running rewards\")\n",
    "    plt.title(title_str)\n",
    "\n",
    "plt.grid()\n",
    "plt.xlabel('Episodes')\n",
    "plt.ylabel('Running average of Rewards')\n",
    "plt.legend(ncol=1)\n",
    "plt.show()"
   ]
  },
  {
   "cell_type": "code",
   "execution_count": 15,
   "metadata": {},
   "outputs": [],
   "source": [
    "def train_nn_policy_save(max_episodes=1000, **hyperparam_dict):\n",
    "    \"\"\"\n",
    "    Function for training the neural network policy parameters with specified hyperparameters.\n",
    "    \"\"\"\n",
    "    \n",
    "    # Fetch the hyperparameters\n",
    "    gamma = hyperparam_dict['gamma']\n",
    "    learning_rate = hyperparam_dict['learning_rate']\n",
    "\n",
    "    state_size = env.observation_space.shape[0]\n",
    "\n",
    "    # Create the policy function and set the training mode\n",
    "    policy = NeuralNetworkPolicy()\n",
    "    policy.train()\n",
    "\n",
    "    # Define the optimizer and set the learning rate\n",
    "    optimizer = optim.Adam(policy.parameters(), lr=learning_rate)\n",
    "\n",
    "    # Execute the REINFORCE algorithm\n",
    "    ep_rewards, running_rewards = reinforce(policy, optimizer, max_episodes=max_episodes, save=True)\n",
    "    \n",
    "    del optimizer\n",
    "    del policy\n",
    "    \n",
    "    return ep_rewards, running_rewards"
   ]
  },
  {
   "cell_type": "code",
   "execution_count": 16,
   "metadata": {},
   "outputs": [
    {
     "name": "stdout",
     "output_type": "stream",
     "text": [
      "Episode 100\tLast reward: 120.00\tAverage reward: 201.18\n",
      "Episode 200\tLast reward: 135.00\tAverage reward: 195.36\n",
      "Episode 300\tLast reward: 500.00\tAverage reward: 458.64\n",
      "Episode 400\tLast reward: 41.00\tAverage reward: 139.48\n",
      "Episode 500\tLast reward: 500.00\tAverage reward: 390.13\n",
      "Running reward is now 475.175482136948 and the last episode ran for 500 steps!\n"
     ]
    }
   ],
   "source": [
    "# Train and Save a network\n",
    "\n",
    "# A list for storing the hyperparameters and the corresponding results\n",
    "results_neural_network = list()\n",
    "\n",
    "# Run the REINFORCE algorithm \n",
    "hyperparam_dict = {'name': 'neural_network', 'gamma':0.9, 'learning_rate':5e-3}\n",
    "ep_rewards, running_rewards = train_nn_policy_save(**hyperparam_dict)\n",
    "\n",
    "# Store the results\n",
    "results_neural_network.append((hyperparam_dict, ep_rewards, running_rewards))"
   ]
  },
  {
   "cell_type": "code",
   "execution_count": 20,
   "metadata": {},
   "outputs": [
    {
     "name": "stdout",
     "output_type": "stream",
     "text": [
      "Episode:  0\n",
      "Time Steps:  500\n",
      "Reward:  500.0\n",
      "Episode:  1\n",
      "Time Steps:  500\n",
      "Reward:  500.0\n",
      "Episode:  2\n",
      "Time Steps:  500\n",
      "Reward:  500.0\n",
      "Episode:  3\n",
      "Time Steps:  500\n",
      "Reward:  500.0\n",
      "Episode:  4\n",
      "Time Steps:  500\n",
      "Reward:  500.0\n"
     ]
    }
   ],
   "source": [
    "from IPython import display\n",
    "%matplotlib inline\n",
    "\n",
    "# Visualization\n",
    "# policy = NeuralNetworkPolicy.load(state_file='models/policy_network_solved.pt')\n",
    "policy = NeuralNetworkPolicy.load(state_file='models/policy_network.pt')\n",
    "        \n",
    "# For each step of the episode\n",
    "for episode in range(0,5):\n",
    "    state = env.reset()\n",
    "    t = 0\n",
    "\n",
    "    # Initialize `ep_reward` (the total reward for this episode)\n",
    "    ep_reward = 0\n",
    "    while (True):\n",
    "        # Render env\n",
    "        # plt.imshow(env.render(mode='rgb_array'))\n",
    "        # display.display(plt.gcf())\n",
    "        # display.clear_output(wait=True)\n",
    "        ### env.render(mode='rgb_array')\n",
    "\n",
    "        # 3.1 Select an action using the policy network\n",
    "        action = policy.select_action(state)\n",
    "        # action = self.select_action(state)\n",
    "\n",
    "        # 3.2 Perform the action and note the next state and reward and if the episode is done\n",
    "        state, reward, done, info = env.step(action)\n",
    "\n",
    "        # 3.3 Store the current reward in `policy.rewards`\n",
    "        policy.rewards.append(reward)\n",
    "\n",
    "        # 3.4 Increment the total reward in this episode\n",
    "        ep_reward += reward\n",
    "\n",
    "        # Steps in episode for output required\n",
    "        t += 1\n",
    "\n",
    "        # 3.5 Check if the episode is finished using the `done` variable and break if yes\n",
    "        if (done):\n",
    "            break\n",
    "    print('Episode: ', episode)\n",
    "    print('Time Steps: ', t)\n",
    "    print('Reward: ', ep_reward)"
   ]
  },
  {
   "cell_type": "code",
   "execution_count": null,
   "metadata": {},
   "outputs": [],
   "source": []
  }
 ],
 "metadata": {
  "kernelspec": {
   "display_name": "venv-advml",
   "language": "python",
   "name": "venv-advml"
  },
  "language_info": {
   "codemirror_mode": {
    "name": "ipython",
    "version": 3
   },
   "file_extension": ".py",
   "mimetype": "text/x-python",
   "name": "python",
   "nbconvert_exporter": "python",
   "pygments_lexer": "ipython3",
   "version": "3.7.7"
  }
 },
 "nbformat": 4,
 "nbformat_minor": 4
}
